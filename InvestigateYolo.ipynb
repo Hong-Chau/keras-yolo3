{
 "cells": [
  {
   "cell_type": "markdown",
   "metadata": {},
   "source": [
    "# Data generator"
   ]
  },
  {
   "cell_type": "code",
   "execution_count": null,
   "metadata": {},
   "outputs": [],
   "source": [
    "import numpy as np\n",
    "import matplotlib.pyplot as plt\n",
    "import cv2\n",
    "from PIL import Image\n",
    "\n",
    "from yolo3.utils import get_random_data\n",
    "from yolo3.model import preprocess_true_boxes"
   ]
  },
  {
   "cell_type": "code",
   "execution_count": null,
   "metadata": {
    "collapsed": true
   },
   "outputs": [],
   "source": [
    "def get_classes(classes_path):\n",
    "    '''loads the classes'''\n",
    "    with open(classes_path) as f:\n",
    "        class_names = f.readlines()\n",
    "    class_names = [c.strip() for c in class_names]\n",
    "    return class_names\n",
    "\n",
    "def get_anchors(anchors_path):\n",
    "    '''loads the anchors from a file'''\n",
    "    with open(anchors_path) as f:\n",
    "        anchors = f.readline()\n",
    "    anchors = [float(x) for x in anchors.split(',')]\n",
    "    return np.array(anchors).reshape(-1, 2)"
   ]
  },
  {
   "cell_type": "code",
   "execution_count": null,
   "metadata": {
    "collapsed": true
   },
   "outputs": [],
   "source": [
    "annotation_path = '2012_train.txt'"
   ]
  },
  {
   "cell_type": "code",
   "execution_count": null,
   "metadata": {
    "collapsed": true
   },
   "outputs": [],
   "source": [
    "with open(annotation_path) as f:\n",
    "    lines = f.readlines()"
   ]
  },
  {
   "cell_type": "code",
   "execution_count": null,
   "metadata": {},
   "outputs": [],
   "source": [
    "np.random.seed(10101)\n",
    "np.random.shuffle(lines)\n",
    "np.random.seed(None)"
   ]
  },
  {
   "cell_type": "code",
   "execution_count": null,
   "metadata": {},
   "outputs": [],
   "source": [
    "classes_path = 'model_data/voc_classes.txt'\n",
    "anchors_path = 'model_data/yolo_anchors.txt'\n",
    "\n",
    "input_shape = (416,416) # multiple of 32, hw"
   ]
  },
  {
   "cell_type": "markdown",
   "metadata": {},
   "source": [
    "## data_generator function"
   ]
  },
  {
   "cell_type": "code",
   "execution_count": null,
   "metadata": {
    "collapsed": true
   },
   "outputs": [],
   "source": [
    "val_split = 0.1\n",
    "num_val = int(len(lines)*val_split)\n",
    "num_train = len(lines) - num_val\n",
    "\n",
    "annotation_lines = lines[:num_train]"
   ]
  },
  {
   "cell_type": "markdown",
   "metadata": {},
   "source": [
    "### get_random_data function"
   ]
  },
  {
   "cell_type": "code",
   "execution_count": null,
   "metadata": {},
   "outputs": [],
   "source": [
    "i = 1\n",
    "# Original image\n",
    "annotation_line = annotation_lines[i]\n",
    "line = annotation_line.split()\n",
    "image = Image.open(line[0])\n",
    "box = np.array([np.array(list(map(int,box.split(',')))) for box in line[1:]])\n",
    "\n",
    "image = np.array(image)\n",
    "plt.imshow(image)\n",
    "image.shape"
   ]
  },
  {
   "cell_type": "code",
   "execution_count": null,
   "metadata": {},
   "outputs": [],
   "source": [
    "# Image with resizing and padding to become input_shape shape WITHOUT transforming image\n",
    "# value be normalized = /255\n",
    "image, box = get_random_data(annotation_line, input_shape, random=False)\n",
    "plt.imshow(image)\n",
    "image.shape"
   ]
  },
  {
   "cell_type": "code",
   "execution_count": null,
   "metadata": {},
   "outputs": [],
   "source": [
    "# Randomly Transforming image: resize, transition, flip and distort color\n",
    "# value be normalized = /255\n",
    "image, box = get_random_data(annotation_line, input_shape, random=True)\n",
    "plt.imshow(image)\n",
    "image.shape"
   ]
  },
  {
   "cell_type": "code",
   "execution_count": null,
   "metadata": {},
   "outputs": [],
   "source": [
    "# Draw bounding box\n",
    "k = 0\n",
    "x1 = int(box[k][0])\n",
    "y1 = int(box[k][1])\n",
    "x2 = int(box[k][2])\n",
    "y2 = int(box[k][3])\n",
    "\n",
    "cv2.rectangle(image, (x1, y1), (x2, y2), (255, 255, 0), 2)\n",
    "\n",
    "plt.imshow(image)\n",
    "image.shape"
   ]
  },
  {
   "cell_type": "markdown",
   "metadata": {},
   "source": [
    "### preprocess_true_boxes function"
   ]
  },
  {
   "cell_type": "code",
   "execution_count": null,
   "metadata": {
    "collapsed": true
   },
   "outputs": [],
   "source": [
    "box_data = []\n",
    "box[1] = box[0]\n",
    "box_data.append(box)\n",
    "box_data = np.array(box_data)\n",
    "\n",
    "class_names = get_classes(classes_path)\n",
    "num_classes = len(class_names)\n",
    "anchors = get_anchors(anchors_path)"
   ]
  },
  {
   "cell_type": "code",
   "execution_count": null,
   "metadata": {},
   "outputs": [],
   "source": [
    "true_boxes = box_data"
   ]
  },
  {
   "cell_type": "code",
   "execution_count": null,
   "metadata": {},
   "outputs": [],
   "source": [
    "y_true = preprocess_true_boxes(box_data, input_shape, anchors, num_classes)\n",
    "# there are 3 level of feature map by default\n",
    "print(y_true[0].shape)\n",
    "print(y_true[1].shape)\n",
    "print(y_true[2].shape)"
   ]
  },
  {
   "cell_type": "code",
   "execution_count": null,
   "metadata": {},
   "outputs": [],
   "source": [
    "assert (true_boxes[..., 4]<num_classes).all(), 'class id must be less than num_classes'\n",
    "num_layers = len(anchors)//3 # default setting\n",
    "anchor_mask = [[6,7,8], [3,4,5], [0,1,2]] if num_layers==3 else [[3,4,5], [1,2,3]]\n",
    "\n",
    "true_boxes = np.array(true_boxes, dtype='float32')\n",
    "input_shape = np.array(input_shape, dtype='int32')\n",
    "# x,y is of center of boxes, w,h is the width and height of boxes\n",
    "boxes_xy = (true_boxes[..., 0:2] + true_boxes[..., 2:4]) // 2\n",
    "boxes_wh = true_boxes[..., 2:4] - true_boxes[..., 0:2]\n",
    "# normalize into image coordinates (0,1)\n",
    "true_boxes[..., 0:2] = boxes_xy/input_shape[::-1]\n",
    "true_boxes[..., 2:4] = boxes_wh/input_shape[::-1]\n",
    "\n",
    "# number of images in the batch, or batch_size\n",
    "m = true_boxes.shape[0]\n",
    "layer2stride = {0:32, 1:16, 2:8}\n",
    "grid_shapes = [input_shape//layer2stride[l] for l in range(num_layers)]\n",
    "# initialize y_true for correct output shapes\n",
    "y_true = [np.zeros((m,grid_shapes[l][0],grid_shapes[l][1],len(anchor_mask[l]),5+num_classes),\n",
    "    dtype='float32') for l in range(num_layers)]\n",
    "\n",
    "# Expand dim to apply broadcasting.\n",
    "anchors = np.expand_dims(anchors, 0)\n",
    "anchor_maxes = anchors / 2.\n",
    "anchor_mins = -anchor_maxes\n",
    "valid_mask = boxes_wh[..., 0]>0"
   ]
  },
  {
   "cell_type": "code",
   "execution_count": null,
   "metadata": {},
   "outputs": [],
   "source": [
    "anchor_mins"
   ]
  },
  {
   "cell_type": "code",
   "execution_count": null,
   "metadata": {},
   "outputs": [],
   "source": [
    "b = 0\n",
    "\n",
    "# Discard zero rows.\n",
    "wh = boxes_wh[b, valid_mask[b]]\n",
    "if len(wh)==0:\n",
    "    print(\"len 0\")\n",
    "else:\n",
    "    # Expand dim to apply broadcasting.\n",
    "    wh = np.expand_dims(wh, -2)\n",
    "    box_maxes = wh / 2.\n",
    "    box_mins = -box_maxes\n",
    "\n",
    "    intersect_mins = np.maximum(box_mins, anchor_mins)\n",
    "    intersect_maxes = np.minimum(box_maxes, anchor_maxes)\n",
    "    intersect_wh = np.maximum(intersect_maxes - intersect_mins, 0.)\n",
    "    intersect_area = intersect_wh[..., 0] * intersect_wh[..., 1]\n",
    "    box_area = wh[..., 0] * wh[..., 1]\n",
    "    anchor_area = anchors[..., 0] * anchors[..., 1]\n",
    "    iou = intersect_area / (box_area + anchor_area - intersect_area)\n",
    "\n",
    "    # Find best anchor for each true box\n",
    "    best_anchor = np.argmax(iou, axis=-1)"
   ]
  },
  {
   "cell_type": "code",
   "execution_count": null,
   "metadata": {},
   "outputs": [],
   "source": [
    "best_anchor"
   ]
  },
  {
   "cell_type": "code",
   "execution_count": null,
   "metadata": {},
   "outputs": [],
   "source": [
    "iou"
   ]
  },
  {
   "cell_type": "code",
   "execution_count": null,
   "metadata": {},
   "outputs": [],
   "source": [
    "intersect_mins"
   ]
  },
  {
   "cell_type": "code",
   "execution_count": null,
   "metadata": {},
   "outputs": [],
   "source": [
    "box_mins"
   ]
  },
  {
   "cell_type": "code",
   "execution_count": null,
   "metadata": {},
   "outputs": [],
   "source": [
    "anchor_mins"
   ]
  },
  {
   "cell_type": "code",
   "execution_count": null,
   "metadata": {},
   "outputs": [],
   "source": [
    "anchors"
   ]
  },
  {
   "cell_type": "code",
   "execution_count": null,
   "metadata": {},
   "outputs": [],
   "source": [
    "anchor_maxes"
   ]
  },
  {
   "cell_type": "code",
   "execution_count": null,
   "metadata": {},
   "outputs": [],
   "source": [
    "anchor_mins"
   ]
  },
  {
   "cell_type": "code",
   "execution_count": null,
   "metadata": {},
   "outputs": [],
   "source": [
    "valid_mask"
   ]
  },
  {
   "cell_type": "code",
   "execution_count": null,
   "metadata": {},
   "outputs": [],
   "source": [
    "wh"
   ]
  },
  {
   "cell_type": "code",
   "execution_count": null,
   "metadata": {},
   "outputs": [],
   "source": [
    "box_maxes"
   ]
  },
  {
   "cell_type": "code",
   "execution_count": null,
   "metadata": {},
   "outputs": [],
   "source": [
    "box_mins"
   ]
  },
  {
   "cell_type": "code",
   "execution_count": null,
   "metadata": {},
   "outputs": [],
   "source": [
    "intersect_mins"
   ]
  },
  {
   "cell_type": "code",
   "execution_count": null,
   "metadata": {},
   "outputs": [],
   "source": [
    "intersect_maxes"
   ]
  },
  {
   "cell_type": "code",
   "execution_count": null,
   "metadata": {},
   "outputs": [],
   "source": [
    "intersect_wh"
   ]
  },
  {
   "cell_type": "code",
   "execution_count": null,
   "metadata": {},
   "outputs": [],
   "source": [
    "anchors"
   ]
  },
  {
   "cell_type": "code",
   "execution_count": null,
   "metadata": {},
   "outputs": [],
   "source": [
    "intersect_area"
   ]
  },
  {
   "cell_type": "code",
   "execution_count": null,
   "metadata": {},
   "outputs": [],
   "source": [
    "box_area"
   ]
  },
  {
   "cell_type": "code",
   "execution_count": null,
   "metadata": {},
   "outputs": [],
   "source": [
    "best_anchor"
   ]
  },
  {
   "cell_type": "code",
   "execution_count": null,
   "metadata": {},
   "outputs": [],
   "source": [
    "for t, n in enumerate(best_anchor):\n",
    "    print(t, n)"
   ]
  },
  {
   "cell_type": "code",
   "execution_count": null,
   "metadata": {},
   "outputs": [],
   "source": [
    "grid_shapes"
   ]
  },
  {
   "cell_type": "code",
   "execution_count": null,
   "metadata": {},
   "outputs": [],
   "source": [
    "true_boxes"
   ]
  },
  {
   "cell_type": "code",
   "execution_count": null,
   "metadata": {},
   "outputs": [],
   "source": [
    "anchor_mask[0].index(8)"
   ]
  },
  {
   "cell_type": "code",
   "execution_count": null,
   "metadata": {},
   "outputs": [],
   "source": [
    "true_boxes[0,0,4]"
   ]
  },
  {
   "cell_type": "code",
   "execution_count": null,
   "metadata": {},
   "outputs": [],
   "source": [
    "true_boxes[0,0,0:4]"
   ]
  },
  {
   "cell_type": "markdown",
   "metadata": {},
   "source": [
    "# Yolo loss"
   ]
  },
  {
   "cell_type": "markdown",
   "metadata": {},
   "source": [
    "## Review yolo_loss function"
   ]
  },
  {
   "cell_type": "markdown",
   "metadata": {},
   "source": [
    "### Prepare auguments"
   ]
  },
  {
   "cell_type": "code",
   "execution_count": 70,
   "metadata": {},
   "outputs": [],
   "source": [
    "import numpy as np\n",
    "import matplotlib.pyplot as plt\n",
    "import cv2\n",
    "from PIL import Image\n",
    "\n",
    "from yolo3.utils import get_random_data\n",
    "from yolo3.model import *\n",
    "from train import *\n",
    "\n",
    "def get_classes(classes_path):\n",
    "    '''loads the classes'''\n",
    "    with open(classes_path) as f:\n",
    "        class_names = f.readlines()\n",
    "    class_names = [c.strip() for c in class_names]\n",
    "    return class_names\n",
    "\n",
    "def get_anchors(anchors_path):\n",
    "    '''loads the anchors from a file'''\n",
    "    with open(anchors_path) as f:\n",
    "        anchors = f.readline()\n",
    "    anchors = [float(x) for x in anchors.split(',')]\n",
    "    return np.array(anchors).reshape(-1, 2)"
   ]
  },
  {
   "cell_type": "code",
   "execution_count": 2,
   "metadata": {
    "collapsed": true
   },
   "outputs": [],
   "source": [
    "annotation_path = '2012_train.txt'\n",
    "log_dir = 'logs/000/'\n",
    "classes_path = 'model_data/voc_classes.txt'\n",
    "anchors_path = 'model_data/yolo_anchors.txt'\n",
    "class_names = get_classes(classes_path)\n",
    "num_classes = len(class_names)\n",
    "anchors = get_anchors(anchors_path)\n",
    "\n",
    "input_shape = (416,416) # multiple of 32, hw"
   ]
  },
  {
   "cell_type": "code",
   "execution_count": 3,
   "metadata": {},
   "outputs": [],
   "source": [
    "K.clear_session() # get a new session\n",
    "image_input = Input(shape=(None, None, 3))\n",
    "h, w = input_shape\n",
    "num_anchors = len(anchors)\n"
   ]
  },
  {
   "cell_type": "code",
   "execution_count": 4,
   "metadata": {},
   "outputs": [
    {
     "name": "stdout",
     "output_type": "stream",
     "text": [
      "Create YOLOv3 model with 9 anchors and 20 classes.\n"
     ]
    }
   ],
   "source": [
    "model_body = yolo_body(image_input, num_anchors//3, num_classes)\n",
    "print('Create YOLOv3 model with {} anchors and {} classes.'.format(num_anchors, num_classes))"
   ]
  },
  {
   "cell_type": "code",
   "execution_count": 5,
   "metadata": {},
   "outputs": [
    {
     "name": "stderr",
     "output_type": "stream",
     "text": [
      "/Users/chaunguyen/anaconda2/envs/keras/lib/python3.5/site-packages/keras/engine/saving.py:1008: UserWarning: Skipping loading of weights for layer conv2d_59 due to mismatch in shape ((1, 1, 1024, 75) vs (255, 1024, 1, 1)).\n",
      "  weight_values[i].shape))\n",
      "/Users/chaunguyen/anaconda2/envs/keras/lib/python3.5/site-packages/keras/engine/saving.py:1008: UserWarning: Skipping loading of weights for layer conv2d_59 due to mismatch in shape ((75,) vs (255,)).\n",
      "  weight_values[i].shape))\n",
      "/Users/chaunguyen/anaconda2/envs/keras/lib/python3.5/site-packages/keras/engine/saving.py:1008: UserWarning: Skipping loading of weights for layer conv2d_67 due to mismatch in shape ((1, 1, 512, 75) vs (255, 512, 1, 1)).\n",
      "  weight_values[i].shape))\n",
      "/Users/chaunguyen/anaconda2/envs/keras/lib/python3.5/site-packages/keras/engine/saving.py:1008: UserWarning: Skipping loading of weights for layer conv2d_67 due to mismatch in shape ((75,) vs (255,)).\n",
      "  weight_values[i].shape))\n",
      "/Users/chaunguyen/anaconda2/envs/keras/lib/python3.5/site-packages/keras/engine/saving.py:1008: UserWarning: Skipping loading of weights for layer conv2d_75 due to mismatch in shape ((1, 1, 256, 75) vs (255, 256, 1, 1)).\n",
      "  weight_values[i].shape))\n",
      "/Users/chaunguyen/anaconda2/envs/keras/lib/python3.5/site-packages/keras/engine/saving.py:1008: UserWarning: Skipping loading of weights for layer conv2d_75 due to mismatch in shape ((75,) vs (255,)).\n",
      "  weight_values[i].shape))\n"
     ]
    },
    {
     "name": "stdout",
     "output_type": "stream",
     "text": [
      "Load weights model_data/yolo_weights.h5.\n"
     ]
    }
   ],
   "source": [
    "weights_path = 'model_data/yolo_weights.h5'\n",
    "model_body.load_weights(weights_path, by_name=True, skip_mismatch=True)\n",
    "print('Load weights {}.'.format(weights_path))"
   ]
  },
  {
   "cell_type": "markdown",
   "metadata": {},
   "source": [
    "### Get model body output and y_true"
   ]
  },
  {
   "cell_type": "code",
   "execution_count": 6,
   "metadata": {
    "collapsed": true
   },
   "outputs": [],
   "source": [
    "val_split = 0.1\n",
    "with open(annotation_path) as f:\n",
    "    lines = f.readlines()\n",
    "np.random.seed(10101)\n",
    "np.random.shuffle(lines)\n",
    "np.random.seed(None)\n",
    "num_val = int(len(lines)*val_split)\n",
    "num_train = len(lines) - num_val\n",
    "\n",
    "annotation_lines = lines[:num_train]"
   ]
  },
  {
   "cell_type": "code",
   "execution_count": 7,
   "metadata": {},
   "outputs": [
    {
     "data": {
      "text/plain": [
       "(416, 416, 3)"
      ]
     },
     "execution_count": 7,
     "metadata": {},
     "output_type": "execute_result"
    },
    {
     "data": {
      "image/png": "[encoded data removed]",
      "text/plain": [
       "<Figure size 432x288 with 1 Axes>"
      ]
     },
     "metadata": {},
     "output_type": "display_data"
    }
   ],
   "source": [
    "i = 1\n",
    "# Original image\n",
    "annotation_line = annotation_lines[i]\n",
    "# Image with resizing and padding to become input_shape shape WITHOUT transforming image\n",
    "# value be normalized = /255\n",
    "image, box = get_random_data(annotation_line, input_shape, random=False)\n",
    "plt.imshow(image)\n",
    "image.shape"
   ]
  },
  {
   "cell_type": "code",
   "execution_count": 8,
   "metadata": {},
   "outputs": [],
   "source": [
    "box_data = []\n",
    "# box[1] = box[0]\n",
    "box_data.append(box)\n",
    "box_data = np.array(box_data)\n",
    "\n",
    "y_true = preprocess_true_boxes(box_data, input_shape, anchors, num_classes)"
   ]
  },
  {
   "cell_type": "code",
   "execution_count": 9,
   "metadata": {},
   "outputs": [],
   "source": [
    "model_body_outputs = model_body.predict(np.array([image]))"
   ]
  },
  {
   "cell_type": "code",
   "execution_count": 10,
   "metadata": {},
   "outputs": [
    {
     "data": {
      "text/plain": [
       "(1, 52, 52, 75)"
      ]
     },
     "execution_count": 10,
     "metadata": {},
     "output_type": "execute_result"
    }
   ],
   "source": [
    "model_body_outputs[2].shape"
   ]
  },
  {
   "cell_type": "code",
   "execution_count": 11,
   "metadata": {
    "collapsed": true
   },
   "outputs": [],
   "source": [
    "args = [*model_body_outputs, *y_true]"
   ]
  },
  {
   "cell_type": "code",
   "execution_count": 12,
   "metadata": {},
   "outputs": [
    {
     "data": {
      "text/plain": [
       "6"
      ]
     },
     "execution_count": 12,
     "metadata": {},
     "output_type": "execute_result"
    }
   ],
   "source": [
    "len(args)"
   ]
  },
  {
   "cell_type": "markdown",
   "metadata": {},
   "source": [
    "### Investigate yolo_loss"
   ]
  },
  {
   "cell_type": "code",
   "execution_count": 27,
   "metadata": {
    "collapsed": true
   },
   "outputs": [],
   "source": [
    "sess = K.get_session()"
   ]
  },
  {
   "cell_type": "code",
   "execution_count": 22,
   "metadata": {},
   "outputs": [
    {
     "data": {
      "text/plain": [
       "dtype('float32')"
      ]
     },
     "execution_count": 22,
     "metadata": {},
     "output_type": "execute_result"
    }
   ],
   "source": [
    "num_layers = len(anchors)//3 # default setting\n",
    "yolo_outputs = args[:num_layers]\n",
    "y_true = args[num_layers:]\n",
    "anchor_mask = [[6,7,8], [3,4,5], [0,1,2]] if num_layers==3 else [[3,4,5], [1,2,3]]\n",
    "y_true[0].dtype"
   ]
  },
  {
   "cell_type": "code",
   "execution_count": 25,
   "metadata": {},
   "outputs": [],
   "source": [
    "input_shape = K.cast(K.shape(yolo_outputs[0])[1:3] * 32, dtype='float32')"
   ]
  },
  {
   "cell_type": "code",
   "execution_count": 26,
   "metadata": {},
   "outputs": [
    {
     "data": {
      "text/plain": [
       "<tf.Tensor 'Cast:0' shape=(2,) dtype=float32>"
      ]
     },
     "execution_count": 26,
     "metadata": {},
     "output_type": "execute_result"
    }
   ],
   "source": [
    "input_shape"
   ]
  },
  {
   "cell_type": "code",
   "execution_count": 30,
   "metadata": {},
   "outputs": [
    {
     "data": {
      "text/plain": [
       "array([416., 416.], dtype=float32)"
      ]
     },
     "execution_count": 30,
     "metadata": {},
     "output_type": "execute_result"
    }
   ],
   "source": [
    "sess.run(input_shape)"
   ]
  },
  {
   "cell_type": "code",
   "execution_count": 32,
   "metadata": {},
   "outputs": [],
   "source": [
    "grid_shapes = [K.cast(K.shape(yolo_outputs[l])[1:3], dtype='float32') for l in range(num_layers)]"
   ]
  },
  {
   "cell_type": "code",
   "execution_count": 33,
   "metadata": {},
   "outputs": [
    {
     "data": {
      "text/plain": [
       "[array([13., 13.], dtype=float32),\n",
       " array([26., 26.], dtype=float32),\n",
       " array([52., 52.], dtype=float32)]"
      ]
     },
     "execution_count": 33,
     "metadata": {},
     "output_type": "execute_result"
    }
   ],
   "source": [
    "sess.run(grid_shapes)"
   ]
  },
  {
   "cell_type": "code",
   "execution_count": 34,
   "metadata": {},
   "outputs": [
    {
     "data": {
      "text/plain": [
       "1"
      ]
     },
     "execution_count": 34,
     "metadata": {},
     "output_type": "execute_result"
    }
   ],
   "source": [
    "m = K.shape(yolo_outputs[0])[0] # batch size, tensor\n",
    "sess.run(m)"
   ]
  },
  {
   "cell_type": "code",
   "execution_count": 36,
   "metadata": {},
   "outputs": [
    {
     "data": {
      "text/plain": [
       "1.0"
      ]
     },
     "execution_count": 36,
     "metadata": {},
     "output_type": "execute_result"
    }
   ],
   "source": [
    "mf = K.cast(m, dtype='float32')\n",
    "sess.run(mf)"
   ]
  },
  {
   "cell_type": "code",
   "execution_count": 57,
   "metadata": {},
   "outputs": [],
   "source": [
    "l = range(num_layers)[0]"
   ]
  },
  {
   "cell_type": "code",
   "execution_count": 58,
   "metadata": {},
   "outputs": [
    {
     "data": {
      "text/plain": [
       "(1, 13, 13, 3, 1)"
      ]
     },
     "execution_count": 58,
     "metadata": {},
     "output_type": "execute_result"
    }
   ],
   "source": [
    "object_mask = y_true[l][..., 4:5]\n",
    "object_mask.shape"
   ]
  },
  {
   "cell_type": "code",
   "execution_count": 59,
   "metadata": {},
   "outputs": [
    {
     "data": {
      "text/plain": [
       "(array([0]), array([6]), array([6]), array([2]), array([0]))"
      ]
     },
     "execution_count": 59,
     "metadata": {},
     "output_type": "execute_result"
    }
   ],
   "source": [
    "np.nonzero(object_mask)"
   ]
  },
  {
   "cell_type": "code",
   "execution_count": 60,
   "metadata": {},
   "outputs": [
    {
     "data": {
      "text/plain": [
       "array([1.], dtype=float32)"
      ]
     },
     "execution_count": 60,
     "metadata": {},
     "output_type": "execute_result"
    }
   ],
   "source": [
    "object_mask[np.nonzero(object_mask)]"
   ]
  },
  {
   "cell_type": "code",
   "execution_count": 62,
   "metadata": {},
   "outputs": [
    {
     "data": {
      "text/plain": [
       "(1, 13, 13, 3, 20)"
      ]
     },
     "execution_count": 62,
     "metadata": {},
     "output_type": "execute_result"
    }
   ],
   "source": [
    "true_class_probs = y_true[l][..., 5:]\n",
    "true_class_probs.shape"
   ]
  },
  {
   "cell_type": "markdown",
   "metadata": {},
   "source": [
    "### Go to yolo_head\n",
    "### grid, raw_pred, pred_xy, pred_wh = yolo_head(feats, anchors, num_classes, input_shape, calc_loss=True)"
   ]
  },
  {
   "cell_type": "code",
   "execution_count": 65,
   "metadata": {
    "collapsed": true
   },
   "outputs": [],
   "source": [
    "anchors_backup = np.copy(anchors)"
   ]
  },
  {
   "cell_type": "code",
   "execution_count": 66,
   "metadata": {
    "collapsed": true
   },
   "outputs": [],
   "source": [
    "feats = yolo_outputs[l]\n",
    "anchors = anchors[anchor_mask[l]]"
   ]
  },
  {
   "cell_type": "code",
   "execution_count": 67,
   "metadata": {},
   "outputs": [
    {
     "data": {
      "text/plain": [
       "array([[116.,  90.],\n",
       "       [156., 198.],\n",
       "       [373., 326.]])"
      ]
     },
     "execution_count": 67,
     "metadata": {},
     "output_type": "execute_result"
    }
   ],
   "source": [
    "anchors"
   ]
  },
  {
   "cell_type": "code",
   "execution_count": 73,
   "metadata": {},
   "outputs": [
    {
     "data": {
      "text/plain": [
       "3"
      ]
     },
     "execution_count": 73,
     "metadata": {},
     "output_type": "execute_result"
    }
   ],
   "source": [
    "num_anchors = len(anchors)\n",
    "num_anchors"
   ]
  },
  {
   "cell_type": "code",
   "execution_count": 77,
   "metadata": {},
   "outputs": [
    {
     "data": {
      "text/plain": [
       "(1, 1, 1, 3, 2)"
      ]
     },
     "execution_count": 77,
     "metadata": {},
     "output_type": "execute_result"
    }
   ],
   "source": [
    "# Reshape to batch, height, width, num_anchors, box_params.\n",
    "anchors_tensor = K.reshape(K.constant(anchors), [1, 1, 1, num_anchors, 2])\n",
    "sess.run(anchors_tensor).shape"
   ]
  },
  {
   "cell_type": "code",
   "execution_count": 78,
   "metadata": {},
   "outputs": [
    {
     "data": {
      "text/plain": [
       "array([13, 13], dtype=int32)"
      ]
     },
     "execution_count": 78,
     "metadata": {},
     "output_type": "execute_result"
    }
   ],
   "source": [
    "grid_shape = K.shape(feats)[1:3] # height, width\n",
    "sess.run(grid_shape)"
   ]
  },
  {
   "cell_type": "code",
   "execution_count": 81,
   "metadata": {},
   "outputs": [
    {
     "data": {
      "text/plain": [
       "array([[[[ 0]],\n",
       "\n",
       "        [[ 0]],\n",
       "\n",
       "        [[ 0]],\n",
       "\n",
       "        [[ 0]],\n",
       "\n",
       "        [[ 0]],\n",
       "\n",
       "        [[ 0]],\n",
       "\n",
       "        [[ 0]],\n",
       "\n",
       "        [[ 0]],\n",
       "\n",
       "        [[ 0]],\n",
       "\n",
       "        [[ 0]],\n",
       "\n",
       "        [[ 0]],\n",
       "\n",
       "        [[ 0]],\n",
       "\n",
       "        [[ 0]]],\n",
       "\n",
       "\n",
       "       [[[ 1]],\n",
       "\n",
       "        [[ 1]],\n",
       "\n",
       "        [[ 1]],\n",
       "\n",
       "        [[ 1]],\n",
       "\n",
       "        [[ 1]],\n",
       "\n",
       "        [[ 1]],\n",
       "\n",
       "        [[ 1]],\n",
       "\n",
       "        [[ 1]],\n",
       "\n",
       "        [[ 1]],\n",
       "\n",
       "        [[ 1]],\n",
       "\n",
       "        [[ 1]],\n",
       "\n",
       "        [[ 1]],\n",
       "\n",
       "        [[ 1]]],\n",
       "\n",
       "\n",
       "       [[[ 2]],\n",
       "\n",
       "        [[ 2]],\n",
       "\n",
       "        [[ 2]],\n",
       "\n",
       "        [[ 2]],\n",
       "\n",
       "        [[ 2]],\n",
       "\n",
       "        [[ 2]],\n",
       "\n",
       "        [[ 2]],\n",
       "\n",
       "        [[ 2]],\n",
       "\n",
       "        [[ 2]],\n",
       "\n",
       "        [[ 2]],\n",
       "\n",
       "        [[ 2]],\n",
       "\n",
       "        [[ 2]],\n",
       "\n",
       "        [[ 2]]],\n",
       "\n",
       "\n",
       "       [[[ 3]],\n",
       "\n",
       "        [[ 3]],\n",
       "\n",
       "        [[ 3]],\n",
       "\n",
       "        [[ 3]],\n",
       "\n",
       "        [[ 3]],\n",
       "\n",
       "        [[ 3]],\n",
       "\n",
       "        [[ 3]],\n",
       "\n",
       "        [[ 3]],\n",
       "\n",
       "        [[ 3]],\n",
       "\n",
       "        [[ 3]],\n",
       "\n",
       "        [[ 3]],\n",
       "\n",
       "        [[ 3]],\n",
       "\n",
       "        [[ 3]]],\n",
       "\n",
       "\n",
       "       [[[ 4]],\n",
       "\n",
       "        [[ 4]],\n",
       "\n",
       "        [[ 4]],\n",
       "\n",
       "        [[ 4]],\n",
       "\n",
       "        [[ 4]],\n",
       "\n",
       "        [[ 4]],\n",
       "\n",
       "        [[ 4]],\n",
       "\n",
       "        [[ 4]],\n",
       "\n",
       "        [[ 4]],\n",
       "\n",
       "        [[ 4]],\n",
       "\n",
       "        [[ 4]],\n",
       "\n",
       "        [[ 4]],\n",
       "\n",
       "        [[ 4]]],\n",
       "\n",
       "\n",
       "       [[[ 5]],\n",
       "\n",
       "        [[ 5]],\n",
       "\n",
       "        [[ 5]],\n",
       "\n",
       "        [[ 5]],\n",
       "\n",
       "        [[ 5]],\n",
       "\n",
       "        [[ 5]],\n",
       "\n",
       "        [[ 5]],\n",
       "\n",
       "        [[ 5]],\n",
       "\n",
       "        [[ 5]],\n",
       "\n",
       "        [[ 5]],\n",
       "\n",
       "        [[ 5]],\n",
       "\n",
       "        [[ 5]],\n",
       "\n",
       "        [[ 5]]],\n",
       "\n",
       "\n",
       "       [[[ 6]],\n",
       "\n",
       "        [[ 6]],\n",
       "\n",
       "        [[ 6]],\n",
       "\n",
       "        [[ 6]],\n",
       "\n",
       "        [[ 6]],\n",
       "\n",
       "        [[ 6]],\n",
       "\n",
       "        [[ 6]],\n",
       "\n",
       "        [[ 6]],\n",
       "\n",
       "        [[ 6]],\n",
       "\n",
       "        [[ 6]],\n",
       "\n",
       "        [[ 6]],\n",
       "\n",
       "        [[ 6]],\n",
       "\n",
       "        [[ 6]]],\n",
       "\n",
       "\n",
       "       [[[ 7]],\n",
       "\n",
       "        [[ 7]],\n",
       "\n",
       "        [[ 7]],\n",
       "\n",
       "        [[ 7]],\n",
       "\n",
       "        [[ 7]],\n",
       "\n",
       "        [[ 7]],\n",
       "\n",
       "        [[ 7]],\n",
       "\n",
       "        [[ 7]],\n",
       "\n",
       "        [[ 7]],\n",
       "\n",
       "        [[ 7]],\n",
       "\n",
       "        [[ 7]],\n",
       "\n",
       "        [[ 7]],\n",
       "\n",
       "        [[ 7]]],\n",
       "\n",
       "\n",
       "       [[[ 8]],\n",
       "\n",
       "        [[ 8]],\n",
       "\n",
       "        [[ 8]],\n",
       "\n",
       "        [[ 8]],\n",
       "\n",
       "        [[ 8]],\n",
       "\n",
       "        [[ 8]],\n",
       "\n",
       "        [[ 8]],\n",
       "\n",
       "        [[ 8]],\n",
       "\n",
       "        [[ 8]],\n",
       "\n",
       "        [[ 8]],\n",
       "\n",
       "        [[ 8]],\n",
       "\n",
       "        [[ 8]],\n",
       "\n",
       "        [[ 8]]],\n",
       "\n",
       "\n",
       "       [[[ 9]],\n",
       "\n",
       "        [[ 9]],\n",
       "\n",
       "        [[ 9]],\n",
       "\n",
       "        [[ 9]],\n",
       "\n",
       "        [[ 9]],\n",
       "\n",
       "        [[ 9]],\n",
       "\n",
       "        [[ 9]],\n",
       "\n",
       "        [[ 9]],\n",
       "\n",
       "        [[ 9]],\n",
       "\n",
       "        [[ 9]],\n",
       "\n",
       "        [[ 9]],\n",
       "\n",
       "        [[ 9]],\n",
       "\n",
       "        [[ 9]]],\n",
       "\n",
       "\n",
       "       [[[10]],\n",
       "\n",
       "        [[10]],\n",
       "\n",
       "        [[10]],\n",
       "\n",
       "        [[10]],\n",
       "\n",
       "        [[10]],\n",
       "\n",
       "        [[10]],\n",
       "\n",
       "        [[10]],\n",
       "\n",
       "        [[10]],\n",
       "\n",
       "        [[10]],\n",
       "\n",
       "        [[10]],\n",
       "\n",
       "        [[10]],\n",
       "\n",
       "        [[10]],\n",
       "\n",
       "        [[10]]],\n",
       "\n",
       "\n",
       "       [[[11]],\n",
       "\n",
       "        [[11]],\n",
       "\n",
       "        [[11]],\n",
       "\n",
       "        [[11]],\n",
       "\n",
       "        [[11]],\n",
       "\n",
       "        [[11]],\n",
       "\n",
       "        [[11]],\n",
       "\n",
       "        [[11]],\n",
       "\n",
       "        [[11]],\n",
       "\n",
       "        [[11]],\n",
       "\n",
       "        [[11]],\n",
       "\n",
       "        [[11]],\n",
       "\n",
       "        [[11]]],\n",
       "\n",
       "\n",
       "       [[[12]],\n",
       "\n",
       "        [[12]],\n",
       "\n",
       "        [[12]],\n",
       "\n",
       "        [[12]],\n",
       "\n",
       "        [[12]],\n",
       "\n",
       "        [[12]],\n",
       "\n",
       "        [[12]],\n",
       "\n",
       "        [[12]],\n",
       "\n",
       "        [[12]],\n",
       "\n",
       "        [[12]],\n",
       "\n",
       "        [[12]],\n",
       "\n",
       "        [[12]],\n",
       "\n",
       "        [[12]]]], dtype=int32)"
      ]
     },
     "execution_count": 81,
     "metadata": {},
     "output_type": "execute_result"
    }
   ],
   "source": [
    "grid_y = K.tile(K.reshape(K.arange(0, stop=grid_shape[0]), [-1, 1, 1, 1]), [1, grid_shape[1], 1, 1])\n",
    "sess.run(grid_y)"
   ]
  },
  {
   "cell_type": "code",
   "execution_count": 82,
   "metadata": {},
   "outputs": [
    {
     "data": {
      "text/plain": [
       "array([[[[ 0]],\n",
       "\n",
       "        [[ 1]],\n",
       "\n",
       "        [[ 2]],\n",
       "\n",
       "        [[ 3]],\n",
       "\n",
       "        [[ 4]],\n",
       "\n",
       "        [[ 5]],\n",
       "\n",
       "        [[ 6]],\n",
       "\n",
       "        [[ 7]],\n",
       "\n",
       "        [[ 8]],\n",
       "\n",
       "        [[ 9]],\n",
       "\n",
       "        [[10]],\n",
       "\n",
       "        [[11]],\n",
       "\n",
       "        [[12]]],\n",
       "\n",
       "\n",
       "       [[[ 0]],\n",
       "\n",
       "        [[ 1]],\n",
       "\n",
       "        [[ 2]],\n",
       "\n",
       "        [[ 3]],\n",
       "\n",
       "        [[ 4]],\n",
       "\n",
       "        [[ 5]],\n",
       "\n",
       "        [[ 6]],\n",
       "\n",
       "        [[ 7]],\n",
       "\n",
       "        [[ 8]],\n",
       "\n",
       "        [[ 9]],\n",
       "\n",
       "        [[10]],\n",
       "\n",
       "        [[11]],\n",
       "\n",
       "        [[12]]],\n",
       "\n",
       "\n",
       "       [[[ 0]],\n",
       "\n",
       "        [[ 1]],\n",
       "\n",
       "        [[ 2]],\n",
       "\n",
       "        [[ 3]],\n",
       "\n",
       "        [[ 4]],\n",
       "\n",
       "        [[ 5]],\n",
       "\n",
       "        [[ 6]],\n",
       "\n",
       "        [[ 7]],\n",
       "\n",
       "        [[ 8]],\n",
       "\n",
       "        [[ 9]],\n",
       "\n",
       "        [[10]],\n",
       "\n",
       "        [[11]],\n",
       "\n",
       "        [[12]]],\n",
       "\n",
       "\n",
       "       [[[ 0]],\n",
       "\n",
       "        [[ 1]],\n",
       "\n",
       "        [[ 2]],\n",
       "\n",
       "        [[ 3]],\n",
       "\n",
       "        [[ 4]],\n",
       "\n",
       "        [[ 5]],\n",
       "\n",
       "        [[ 6]],\n",
       "\n",
       "        [[ 7]],\n",
       "\n",
       "        [[ 8]],\n",
       "\n",
       "        [[ 9]],\n",
       "\n",
       "        [[10]],\n",
       "\n",
       "        [[11]],\n",
       "\n",
       "        [[12]]],\n",
       "\n",
       "\n",
       "       [[[ 0]],\n",
       "\n",
       "        [[ 1]],\n",
       "\n",
       "        [[ 2]],\n",
       "\n",
       "        [[ 3]],\n",
       "\n",
       "        [[ 4]],\n",
       "\n",
       "        [[ 5]],\n",
       "\n",
       "        [[ 6]],\n",
       "\n",
       "        [[ 7]],\n",
       "\n",
       "        [[ 8]],\n",
       "\n",
       "        [[ 9]],\n",
       "\n",
       "        [[10]],\n",
       "\n",
       "        [[11]],\n",
       "\n",
       "        [[12]]],\n",
       "\n",
       "\n",
       "       [[[ 0]],\n",
       "\n",
       "        [[ 1]],\n",
       "\n",
       "        [[ 2]],\n",
       "\n",
       "        [[ 3]],\n",
       "\n",
       "        [[ 4]],\n",
       "\n",
       "        [[ 5]],\n",
       "\n",
       "        [[ 6]],\n",
       "\n",
       "        [[ 7]],\n",
       "\n",
       "        [[ 8]],\n",
       "\n",
       "        [[ 9]],\n",
       "\n",
       "        [[10]],\n",
       "\n",
       "        [[11]],\n",
       "\n",
       "        [[12]]],\n",
       "\n",
       "\n",
       "       [[[ 0]],\n",
       "\n",
       "        [[ 1]],\n",
       "\n",
       "        [[ 2]],\n",
       "\n",
       "        [[ 3]],\n",
       "\n",
       "        [[ 4]],\n",
       "\n",
       "        [[ 5]],\n",
       "\n",
       "        [[ 6]],\n",
       "\n",
       "        [[ 7]],\n",
       "\n",
       "        [[ 8]],\n",
       "\n",
       "        [[ 9]],\n",
       "\n",
       "        [[10]],\n",
       "\n",
       "        [[11]],\n",
       "\n",
       "        [[12]]],\n",
       "\n",
       "\n",
       "       [[[ 0]],\n",
       "\n",
       "        [[ 1]],\n",
       "\n",
       "        [[ 2]],\n",
       "\n",
       "        [[ 3]],\n",
       "\n",
       "        [[ 4]],\n",
       "\n",
       "        [[ 5]],\n",
       "\n",
       "        [[ 6]],\n",
       "\n",
       "        [[ 7]],\n",
       "\n",
       "        [[ 8]],\n",
       "\n",
       "        [[ 9]],\n",
       "\n",
       "        [[10]],\n",
       "\n",
       "        [[11]],\n",
       "\n",
       "        [[12]]],\n",
       "\n",
       "\n",
       "       [[[ 0]],\n",
       "\n",
       "        [[ 1]],\n",
       "\n",
       "        [[ 2]],\n",
       "\n",
       "        [[ 3]],\n",
       "\n",
       "        [[ 4]],\n",
       "\n",
       "        [[ 5]],\n",
       "\n",
       "        [[ 6]],\n",
       "\n",
       "        [[ 7]],\n",
       "\n",
       "        [[ 8]],\n",
       "\n",
       "        [[ 9]],\n",
       "\n",
       "        [[10]],\n",
       "\n",
       "        [[11]],\n",
       "\n",
       "        [[12]]],\n",
       "\n",
       "\n",
       "       [[[ 0]],\n",
       "\n",
       "        [[ 1]],\n",
       "\n",
       "        [[ 2]],\n",
       "\n",
       "        [[ 3]],\n",
       "\n",
       "        [[ 4]],\n",
       "\n",
       "        [[ 5]],\n",
       "\n",
       "        [[ 6]],\n",
       "\n",
       "        [[ 7]],\n",
       "\n",
       "        [[ 8]],\n",
       "\n",
       "        [[ 9]],\n",
       "\n",
       "        [[10]],\n",
       "\n",
       "        [[11]],\n",
       "\n",
       "        [[12]]],\n",
       "\n",
       "\n",
       "       [[[ 0]],\n",
       "\n",
       "        [[ 1]],\n",
       "\n",
       "        [[ 2]],\n",
       "\n",
       "        [[ 3]],\n",
       "\n",
       "        [[ 4]],\n",
       "\n",
       "        [[ 5]],\n",
       "\n",
       "        [[ 6]],\n",
       "\n",
       "        [[ 7]],\n",
       "\n",
       "        [[ 8]],\n",
       "\n",
       "        [[ 9]],\n",
       "\n",
       "        [[10]],\n",
       "\n",
       "        [[11]],\n",
       "\n",
       "        [[12]]],\n",
       "\n",
       "\n",
       "       [[[ 0]],\n",
       "\n",
       "        [[ 1]],\n",
       "\n",
       "        [[ 2]],\n",
       "\n",
       "        [[ 3]],\n",
       "\n",
       "        [[ 4]],\n",
       "\n",
       "        [[ 5]],\n",
       "\n",
       "        [[ 6]],\n",
       "\n",
       "        [[ 7]],\n",
       "\n",
       "        [[ 8]],\n",
       "\n",
       "        [[ 9]],\n",
       "\n",
       "        [[10]],\n",
       "\n",
       "        [[11]],\n",
       "\n",
       "        [[12]]],\n",
       "\n",
       "\n",
       "       [[[ 0]],\n",
       "\n",
       "        [[ 1]],\n",
       "\n",
       "        [[ 2]],\n",
       "\n",
       "        [[ 3]],\n",
       "\n",
       "        [[ 4]],\n",
       "\n",
       "        [[ 5]],\n",
       "\n",
       "        [[ 6]],\n",
       "\n",
       "        [[ 7]],\n",
       "\n",
       "        [[ 8]],\n",
       "\n",
       "        [[ 9]],\n",
       "\n",
       "        [[10]],\n",
       "\n",
       "        [[11]],\n",
       "\n",
       "        [[12]]]], dtype=int32)"
      ]
     },
     "execution_count": 82,
     "metadata": {},
     "output_type": "execute_result"
    }
   ],
   "source": [
    "grid_x = K.tile(K.reshape(K.arange(0, stop=grid_shape[1]), [1, -1, 1, 1]), [grid_shape[0], 1, 1, 1])\n",
    "sess.run(grid_x)"
   ]
  },
  {
   "cell_type": "code",
   "execution_count": 84,
   "metadata": {},
   "outputs": [
    {
     "data": {
      "text/plain": [
       "(13, 13, 1, 2)"
      ]
     },
     "execution_count": 84,
     "metadata": {},
     "output_type": "execute_result"
    }
   ],
   "source": [
    "grid = K.concatenate([grid_x, grid_y])\n",
    "sess.run(grid).shape"
   ]
  },
  {
   "cell_type": "code",
   "execution_count": 86,
   "metadata": {},
   "outputs": [],
   "source": [
    "grid = K.cast(grid, dtype='float32')"
   ]
  },
  {
   "cell_type": "code",
   "execution_count": 87,
   "metadata": {},
   "outputs": [
    {
     "data": {
      "text/plain": [
       "(1, 13, 13, 75)"
      ]
     },
     "execution_count": 87,
     "metadata": {},
     "output_type": "execute_result"
    }
   ],
   "source": [
    "feats.shape"
   ]
  },
  {
   "cell_type": "code",
   "execution_count": 89,
   "metadata": {},
   "outputs": [
    {
     "data": {
      "text/plain": [
       "(1, 13, 13, 3, 25)"
      ]
     },
     "execution_count": 89,
     "metadata": {},
     "output_type": "execute_result"
    }
   ],
   "source": [
    "feats = K.reshape(feats, [-1, grid_shape[0], grid_shape[1], num_anchors, num_classes + 5])\n",
    "sess.run(feats).shape"
   ]
  },
  {
   "cell_type": "code",
   "execution_count": 90,
   "metadata": {},
   "outputs": [
    {
     "data": {
      "text/plain": [
       "<tf.Tensor 'Reshape_12:0' shape=(?, ?, ?, 3, 25) dtype=float32>"
      ]
     },
     "execution_count": 90,
     "metadata": {},
     "output_type": "execute_result"
    }
   ],
   "source": [
    "feats"
   ]
  },
  {
   "cell_type": "code",
   "execution_count": 92,
   "metadata": {},
   "outputs": [
    {
     "data": {
      "text/plain": [
       "<tf.Tensor 'sub_1:0' shape=(1, 13, 13, 3, 2) dtype=float32>"
      ]
     },
     "execution_count": 92,
     "metadata": {},
     "output_type": "execute_result"
    }
   ],
   "source": [
    "raw_true_xy = y_true[l][..., :2]*grid_shapes[l][::-1] - grid\n",
    "raw_true_xy"
   ]
  },
  {
   "cell_type": "code",
   "execution_count": 93,
   "metadata": {},
   "outputs": [
    {
     "data": {
      "text/plain": [
       "array([[[[[  0.,   0.],\n",
       "          [  0.,   0.],\n",
       "          [  0.,   0.]],\n",
       "\n",
       "         [[ -1.,   0.],\n",
       "          [ -1.,   0.],\n",
       "          [ -1.,   0.]],\n",
       "\n",
       "         [[ -2.,   0.],\n",
       "          [ -2.,   0.],\n",
       "          [ -2.,   0.]],\n",
       "\n",
       "         ...,\n",
       "\n",
       "         [[-10.,   0.],\n",
       "          [-10.,   0.],\n",
       "          [-10.,   0.]],\n",
       "\n",
       "         [[-11.,   0.],\n",
       "          [-11.,   0.],\n",
       "          [-11.,   0.]],\n",
       "\n",
       "         [[-12.,   0.],\n",
       "          [-12.,   0.],\n",
       "          [-12.,   0.]]],\n",
       "\n",
       "\n",
       "        [[[  0.,  -1.],\n",
       "          [  0.,  -1.],\n",
       "          [  0.,  -1.]],\n",
       "\n",
       "         [[ -1.,  -1.],\n",
       "          [ -1.,  -1.],\n",
       "          [ -1.,  -1.]],\n",
       "\n",
       "         [[ -2.,  -1.],\n",
       "          [ -2.,  -1.],\n",
       "          [ -2.,  -1.]],\n",
       "\n",
       "         ...,\n",
       "\n",
       "         [[-10.,  -1.],\n",
       "          [-10.,  -1.],\n",
       "          [-10.,  -1.]],\n",
       "\n",
       "         [[-11.,  -1.],\n",
       "          [-11.,  -1.],\n",
       "          [-11.,  -1.]],\n",
       "\n",
       "         [[-12.,  -1.],\n",
       "          [-12.,  -1.],\n",
       "          [-12.,  -1.]]],\n",
       "\n",
       "\n",
       "        [[[  0.,  -2.],\n",
       "          [  0.,  -2.],\n",
       "          [  0.,  -2.]],\n",
       "\n",
       "         [[ -1.,  -2.],\n",
       "          [ -1.,  -2.],\n",
       "          [ -1.,  -2.]],\n",
       "\n",
       "         [[ -2.,  -2.],\n",
       "          [ -2.,  -2.],\n",
       "          [ -2.,  -2.]],\n",
       "\n",
       "         ...,\n",
       "\n",
       "         [[-10.,  -2.],\n",
       "          [-10.,  -2.],\n",
       "          [-10.,  -2.]],\n",
       "\n",
       "         [[-11.,  -2.],\n",
       "          [-11.,  -2.],\n",
       "          [-11.,  -2.]],\n",
       "\n",
       "         [[-12.,  -2.],\n",
       "          [-12.,  -2.],\n",
       "          [-12.,  -2.]]],\n",
       "\n",
       "\n",
       "        ...,\n",
       "\n",
       "\n",
       "        [[[  0., -10.],\n",
       "          [  0., -10.],\n",
       "          [  0., -10.]],\n",
       "\n",
       "         [[ -1., -10.],\n",
       "          [ -1., -10.],\n",
       "          [ -1., -10.]],\n",
       "\n",
       "         [[ -2., -10.],\n",
       "          [ -2., -10.],\n",
       "          [ -2., -10.]],\n",
       "\n",
       "         ...,\n",
       "\n",
       "         [[-10., -10.],\n",
       "          [-10., -10.],\n",
       "          [-10., -10.]],\n",
       "\n",
       "         [[-11., -10.],\n",
       "          [-11., -10.],\n",
       "          [-11., -10.]],\n",
       "\n",
       "         [[-12., -10.],\n",
       "          [-12., -10.],\n",
       "          [-12., -10.]]],\n",
       "\n",
       "\n",
       "        [[[  0., -11.],\n",
       "          [  0., -11.],\n",
       "          [  0., -11.]],\n",
       "\n",
       "         [[ -1., -11.],\n",
       "          [ -1., -11.],\n",
       "          [ -1., -11.]],\n",
       "\n",
       "         [[ -2., -11.],\n",
       "          [ -2., -11.],\n",
       "          [ -2., -11.]],\n",
       "\n",
       "         ...,\n",
       "\n",
       "         [[-10., -11.],\n",
       "          [-10., -11.],\n",
       "          [-10., -11.]],\n",
       "\n",
       "         [[-11., -11.],\n",
       "          [-11., -11.],\n",
       "          [-11., -11.]],\n",
       "\n",
       "         [[-12., -11.],\n",
       "          [-12., -11.],\n",
       "          [-12., -11.]]],\n",
       "\n",
       "\n",
       "        [[[  0., -12.],\n",
       "          [  0., -12.],\n",
       "          [  0., -12.]],\n",
       "\n",
       "         [[ -1., -12.],\n",
       "          [ -1., -12.],\n",
       "          [ -1., -12.]],\n",
       "\n",
       "         [[ -2., -12.],\n",
       "          [ -2., -12.],\n",
       "          [ -2., -12.]],\n",
       "\n",
       "         ...,\n",
       "\n",
       "         [[-10., -12.],\n",
       "          [-10., -12.],\n",
       "          [-10., -12.]],\n",
       "\n",
       "         [[-11., -12.],\n",
       "          [-11., -12.],\n",
       "          [-11., -12.]],\n",
       "\n",
       "         [[-12., -12.],\n",
       "          [-12., -12.],\n",
       "          [-12., -12.]]]]], dtype=float32)"
      ]
     },
     "execution_count": 93,
     "metadata": {},
     "output_type": "execute_result"
    }
   ],
   "source": [
    "sess.run(raw_true_xy)"
   ]
  },
  {
   "cell_type": "code",
   "execution_count": null,
   "metadata": {
    "collapsed": true
   },
   "outputs": [],
   "source": []
  }
 ],
 "metadata": {
  "kernelspec": {
   "display_name": "keras",
   "language": "python",
   "name": "keras"
  },
  "language_info": {
   "codemirror_mode": {
    "name": "ipython",
    "version": 3
   },
   "file_extension": ".py",
   "mimetype": "text/x-python",
   "name": "python",
   "nbconvert_exporter": "python",
   "pygments_lexer": "ipython3",
   "version": "3.5.5"
  }
 },
 "nbformat": 4,
 "nbformat_minor": 2
}
